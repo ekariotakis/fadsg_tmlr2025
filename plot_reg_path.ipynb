{
 "cells": [
  {
   "cell_type": "markdown",
   "metadata": {},
   "source": [
    "## Import required packages"
   ]
  },
  {
   "cell_type": "code",
   "execution_count": 1,
   "metadata": {},
   "outputs": [],
   "source": [
    "import os\n",
    "import sys\n",
    "import copy\n",
    "import numpy as np\n",
    "import networkx as nx\n",
    "# from dsd import *\n",
    "import dsd\n",
    "# from my_dsp import *\n",
    "from super_greedy_pp import *\n",
    "import utils\n",
    "from datetime import datetime\n",
    "import matplotlib.pyplot as plt \n",
    "import matplotlib\n",
    "%matplotlib inline \n",
    "import pandas as pd\n",
    "\n",
    "from tqdm import tqdm\n",
    "\n",
    "import random\n",
    "import inspect\n",
    "\n",
    "import csv\n",
    "\n",
    "# Import seaborn\n",
    "import seaborn as sns\n",
    "\n",
    "# Apply the default theme\n",
    "sns.set_theme()\n",
    "\n",
    "plt.rcParams[\"figure.dpi\"]=100\n",
    "plt.rcParams['savefig.dpi']=300"
   ]
  },
  {
   "cell_type": "markdown",
   "metadata": {},
   "source": [
    "## Create regularization path plots"
   ]
  },
  {
   "cell_type": "code",
   "execution_count": 6,
   "metadata": {},
   "outputs": [],
   "source": [
    "dataset_name = 'amazon_hpc'\n",
    "# dataset_name = 'amazon_op'\n",
    "# dataset_name = 'twitchPTBR'"
   ]
  },
  {
   "cell_type": "code",
   "execution_count": 7,
   "metadata": {},
   "outputs": [],
   "source": [
    "if dataset_name == 'amazon_hpc':\n",
    "    load_path = 'logs/amazon/amazon_hpc_1_log.npy'\n",
    "elif dataset_name == 'amazon_op':\n",
    "    load_path = 'logs/amazon/amazon_op_1_log.npy'\n",
    "elif dataset_name == 'twitchPTBR':\n",
    "    load_path = 'logs/twitchPTBR/twitchPTBR_1_log.npy'\n",
    "    \n",
    "variables_dict_ = np.load(load_path, allow_pickle=True)\n",
    "\n",
    "lam_vec = variables_dict_.item().get('lam')\n",
    "super_greedy_pp_R = variables_dict_.item().get('induced')\n",
    "num_of_nodes = variables_dict_.item().get('num_of_nodes')\n",
    "density_vec = variables_dict_.item().get('density')\n",
    "num_of_protected_vec = variables_dict_.item().get('num_of_protected')\n",
    "protected_portion_in_sub_vec = variables_dict_.item().get('protected_portion_in_sub')\n",
    "protected_portion_in_prot_vec = variables_dict_.item().get('protected_portion_in_prot')\n",
    "PoF_vec = variables_dict_.item().get('PoF')\n",
    "fairness_vec = variables_dict_.item().get('fairness')\n",
    "g_vec = variables_dict_.item().get('g')\n",
    "LB_UB_vec = variables_dict_.item().get('LB_UB')\n"
   ]
  },
  {
   "cell_type": "code",
   "execution_count": 13,
   "metadata": {},
   "outputs": [
    {
     "data": {
      "image/png": "[encoded data removed]",
      "text/plain": [
       "<Figure size 300x230 with 1 Axes>"
      ]
     },
     "metadata": {},
     "output_type": "display_data"
    }
   ],
   "source": [
    "plt.figure(figsize=(3,2.3))  \n",
    "plt.ylabel(r\"$ \\dfrac{|\\mathcal{S}\\cap\\mathcal{S}_p|}{|\\mathcal{S}|} $\")\n",
    "plt.plot(lam_vec, protected_portion_in_sub_vec)\n",
    "plt.xlabel(r\"$\\lambda$\")\n",
    "plt.ylim(0, None)\n",
    "plt.show()"
   ]
  }
 ],
 "metadata": {
  "kernelspec": {
   "display_name": "Python 3",
   "language": "python",
   "name": "python3"
  },
  "language_info": {
   "codemirror_mode": {
    "name": "ipython",
    "version": 3
   },
   "file_extension": ".py",
   "mimetype": "text/x-python",
   "name": "python",
   "nbconvert_exporter": "python",
   "pygments_lexer": "ipython3",
   "version": "3.12.1"
  }
 },
 "nbformat": 4,
 "nbformat_minor": 2
}
